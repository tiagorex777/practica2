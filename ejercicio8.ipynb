{
 "cells": [
  {
   "cell_type": "markdown",
   "metadata": {},
   "source": [
    " 8.Escriba un programa que solicite que se ingrese una palabra o frase y permita\n",
    "identificar si la misma es un Heterograma"
   ]
  },
  {
   "cell_type": "markdown",
   "metadata": {},
   "source": [
    "hago el input para que se ingrese una frase o palabra y lo paso a un conjunto (usa caracteres unicos), sacando los numeros ya que estos no se comparan\n"
   ]
  },
  {
   "cell_type": "code",
   "execution_count": null,
   "metadata": {},
   "outputs": [],
   "source": [
    "phrase = input(\"ingrese frase o palabra\").lower()\n",
    "set_phrase = {caracter for caracter in phrase if caracter.isalpha()}\n",
    "list_phrase = [caracter for caracter in phrase if caracter.isalpha()]\n",
    "print(len(set_phrase))\n",
    "print(len(list_phrase))"
   ]
  },
  {
   "cell_type": "markdown",
   "metadata": {},
   "source": [
    "los conjuntos al no almacenar datos repetidos tengo que verificar si la frase original tiene la misma cantidad de elementos que le conjunto"
   ]
  },
  {
   "cell_type": "code",
   "execution_count": null,
   "metadata": {},
   "outputs": [],
   "source": [
    "if len(set_phrase) != 0:\n",
    "    if len(list_phrase) == len(set_phrase):\n",
    "      print(f'{phrase} es Heterograma')\n",
    "    else:\n",
    "     print(f\" {phrase} no es Heterograma\")"
   ]
  }
 ],
 "metadata": {
  "kernelspec": {
   "display_name": "venv",
   "language": "python",
   "name": "python3"
  },
  "language_info": {
   "codemirror_mode": {
    "name": "ipython",
    "version": 3
   },
   "file_extension": ".py",
   "mimetype": "text/x-python",
   "name": "python",
   "nbconvert_exporter": "python",
   "pygments_lexer": "ipython3",
   "version": "3.11.2"
  }
 },
 "nbformat": 4,
 "nbformat_minor": 2
}
