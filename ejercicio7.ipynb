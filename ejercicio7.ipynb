{
 "cells": [
  {
   "cell_type": "markdown",
   "metadata": {},
   "source": [
    "7. Dada una frase contar mayúsculas, minúsculas, caracteres no letras y la cantidad de\n",
    "palabras sin distinguir entre mayúsculas y minúsculas."
   ]
  },
  {
   "cell_type": "code",
   "execution_count": 73,
   "metadata": {},
   "outputs": [],
   "source": [
    "text = \"\"\" La brecha salarial alcanzó el 27,7%: las mujeres ocupadas\n",
    "debieron trabajar 8 días y 10 horas más que los varones ocupados para\n",
    "ganar lo mismo que ellos en un mes. \"\"\""
   ]
  },
  {
   "cell_type": "markdown",
   "metadata": {},
   "source": [
    "comparo cada caracter del texto para saber si es mayuscula, minusculo o no es una letra"
   ]
  },
  {
   "cell_type": "code",
   "execution_count": null,
   "metadata": {},
   "outputs": [],
   "source": [
    "mayuscula = 0\n",
    "minuscula = 0\n",
    "no_caracter = 0\n",
    "for caracter in text:\n",
    "    if caracter.isupper():\n",
    "        mayuscula += 1\n",
    "    else:\n",
    "        if caracter.islower():\n",
    "            minuscula += 1\n",
    "        else:\n",
    "            if not caracter.isalpha():\n",
    "                no_caracter += 1\n",
    "print(f'la cantidad de mayusculas es de {mayuscula}, la cantidad de minusculas es de {minuscula} y la cantidad de no caracter es de {no_caracter}')"
   ]
  }
 ],
 "metadata": {
  "kernelspec": {
   "display_name": "venv",
   "language": "python",
   "name": "python3"
  },
  "language_info": {
   "codemirror_mode": {
    "name": "ipython",
    "version": 3
   },
   "file_extension": ".py",
   "mimetype": "text/x-python",
   "name": "python",
   "nbconvert_exporter": "python",
   "pygments_lexer": "ipython3",
   "version": "3.11.2"
  }
 },
 "nbformat": 4,
 "nbformat_minor": 2
}
