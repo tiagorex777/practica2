{
 "cells": [
  {
   "cell_type": "markdown",
   "metadata": {},
   "source": [
    "articulo a analizar en el punto 5\n"
   ]
  },
  {
   "cell_type": "code",
   "execution_count": 41,
   "metadata": {},
   "outputs": [],
   "source": [
    "article = '''título: Experiences in Developing a Distributed Agentbased Modeling Toolkit with Python Version 3\n",
    "resumen: Distributed agent-based modeling (ABM) on high-performance\n",
    "computing resources provides the promise of capturing unprecedented\n",
    "details of large-scale complex systems. However, the specialized\n",
    "knowledge required for developing such ABMs creates barriers to wider\n",
    "adoption and utilization. Here we present our experiences in\n",
    "developing an initial implementation of Repast4Py, a Python-based\n",
    "distributed ABM toolkit. We build on our experiences in developing ABM\n",
    "toolkits, including Repast for High Performance Computing (Repast\n",
    "HPC), to identify the key elements of a useful distributed ABM\n",
    "toolkit. We leverage the Numba, NumPy, and PyTorch packages and the\n",
    "Python C-API to create a scalable modeling system that can exploit the\n",
    "largest HPC resources and emerging computing architectures.'''"
   ]
  },
  {
   "cell_type": "markdown",
   "metadata": {},
   "source": [
    "separo el titulo y el resumen"
   ]
  },
  {
   "cell_type": "code",
   "execution_count": null,
   "metadata": {},
   "outputs": [],
   "source": [
    "text = article.split(\"\\n\")\n",
    "tittle = text[0]\n",
    "print(tittle)\n",
    "summary = \"\\n\".join(text[1:])                         \n",
    "print(summary)"
   ]
  },
  {
   "cell_type": "markdown",
   "metadata": {},
   "source": [
    "verifico si el titulo es correcto sabien que si tiene mas de 10 palabras sera incorrecto"
   ]
  },
  {
   "cell_type": "code",
   "execution_count": null,
   "metadata": {},
   "outputs": [],
   "source": [
    "total_tittle = 0\n",
    "tittle = tittle.split()\n",
    "total_tittle = sum([total_tittle + 1 for word in tittle if not word.isnumeric()])\n",
    "if total_tittle <= 10:\n",
    "    print(\"titulo: is ok\")\n",
    "else:\n",
    "    print(\"titulo: not ok\")"
   ]
  },
  {
   "cell_type": "markdown",
   "metadata": {},
   "source": [
    "divido el resumen en oraciones "
   ]
  },
  {
   "cell_type": "code",
   "execution_count": null,
   "metadata": {},
   "outputs": [],
   "source": [
    "summary = summary.split(\".\")\n",
    "print(summary)"
   ]
  },
  {
   "cell_type": "markdown",
   "metadata": {},
   "source": [
    "calculo la dificultad de la oraciones del resumen sabiendo que:\n",
    "\n",
    "hasta 12 palabras: fácil de leer\n",
    "\n",
    "entre 13-17 palabras: aceptable para leer\n",
    "\n",
    "entre 18-25 palabras: difícil de leer\n",
    "\n",
    "mas de 25 palabras: muy difícil"
   ]
  },
  {
   "cell_type": "code",
   "execution_count": null,
   "metadata": {},
   "outputs": [],
   "source": [
    "easy = 0\n",
    "aceptable = 0\n",
    "medium = 0\n",
    "hard = 0\n",
    "for oracion in summary:\n",
    "   if len(oracion) != 0:\n",
    "     oracion = oracion.split()\n",
    "     total = 0\n",
    "     total = sum([total + 1 for word in oracion if not word.isnumeric()])\n",
    "     if total <= 12:\n",
    "         easy += 1\n",
    "     else:\n",
    "         if total <=17:\n",
    "          aceptable += 1\n",
    "         else:\n",
    "           if total <= 25:\n",
    "               medium += 1\n",
    "           else:\n",
    "               hard+= 1\n",
    "print(f'Cantidad de oraciones faciles de leer {easy}, aceptables para leer {aceptable}, dificil de leer {medium}, muy dificil de leer {hard}')\n"
   ]
  }
 ],
 "metadata": {
  "kernelspec": {
   "display_name": "venv",
   "language": "python",
   "name": "python3"
  },
  "language_info": {
   "codemirror_mode": {
    "name": "ipython",
    "version": 3
   },
   "file_extension": ".py",
   "mimetype": "text/x-python",
   "name": "python",
   "nbconvert_exporter": "python",
   "pygments_lexer": "ipython3",
   "version": "3.11.2"
  }
 },
 "nbformat": 4,
 "nbformat_minor": 2
}
