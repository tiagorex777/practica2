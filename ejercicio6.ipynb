{
 "cells": [
  {
   "cell_type": "markdown",
   "metadata": {},
   "source": [
    "6. Dada una frase y un string ingresados por teclado (en ese orden), genere una lista de\n",
    "palabras, y sobre ella, informe la cantidad de palabras en las que se encuentra el\n",
    "string. No distingir entre mayúsculas y minúsculas\n"
   ]
  },
  {
   "cell_type": "markdown",
   "metadata": {},
   "source": [
    "ingreso la frase y la palabra"
   ]
  },
  {
   "cell_type": "code",
   "execution_count": null,
   "metadata": {},
   "outputs": [],
   "source": [
    "phrase = input(\"ingrese frase: \")\n",
    "word_entered = input(\"ingrese un string: \")\n",
    "print(phrase)\n",
    "print(word_entered)"
   ]
  },
  {
   "cell_type": "markdown",
   "metadata": {},
   "source": [
    "transformo la palabra y frase a minusculo y saco los signos de acentuacion y separo la frase en palabras"
   ]
  },
  {
   "cell_type": "code",
   "execution_count": 111,
   "metadata": {},
   "outputs": [],
   "source": [
    "phrase = phrase.lower()\n",
    "phrase = phrase.replace(\",\",\"\")\n",
    "phrase = phrase.replace(\".\",\"\")\n",
    "phrase = phrase.split()\n",
    "print(phrase)\n",
    "word_entered = word_entered.lower()"
   ]
  },
  {
   "cell_type": "markdown",
   "metadata": {},
   "source": [
    "comparo las palabras de las frases con la palabra ingresada"
   ]
  },
  {
   "cell_type": "code",
   "execution_count": null,
   "metadata": {},
   "outputs": [],
   "source": [
    "print(word_entered)\n",
    "total = 0\n",
    "total = sum([total + 1 for word in phrase if word in word_entered])\n",
    "print(f'la cantida de veces que aparece el string {word_entered} es de {total}')"
   ]
  }
 ],
 "metadata": {
  "kernelspec": {
   "display_name": "venv",
   "language": "python",
   "name": "python3"
  },
  "language_info": {
   "codemirror_mode": {
    "name": "ipython",
    "version": 3
   },
   "file_extension": ".py",
   "mimetype": "text/x-python",
   "name": "python",
   "nbconvert_exporter": "python",
   "pygments_lexer": "ipython3",
   "version": "3.11.2"
  }
 },
 "nbformat": 4,
 "nbformat_minor": 2
}
