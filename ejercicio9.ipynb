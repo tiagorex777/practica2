{
 "cells": [
  {
   "cell_type": "markdown",
   "metadata": {},
   "source": [
    "9. Escriba un programa que solicite por teclado una palabra y calcule el valor de la misma\n",
    "dada la siguiente tabla de valores del juego Scrabble:\n"
   ]
  },
  {
   "cell_type": "markdown",
   "metadata": {},
   "source": [
    "guardo los valores de cada letra en un diccionario"
   ]
  },
  {
   "cell_type": "code",
   "execution_count": null,
   "metadata": {},
   "outputs": [],
   "source": [
    "values = {\"aeioulnrst\"  : 1,\n",
    "          \"dg\"          : 2,\n",
    "          \"bcmp\"        : 3,\n",
    "          \"fhvwy\"       : 4,\n",
    "          \"k\"           : 5,\n",
    "          \"jx\"          : 8,\n",
    "          \"qz\"          : 10,\n",
    "}\n",
    "\n",
    "print(values.items())\n",
    "print(values.keys())\n",
    "print(values.values())"
   ]
  },
  {
   "cell_type": "markdown",
   "metadata": {},
   "source": [
    "recorro la palabra y en cada letra recorro el diccionario buscando su valor"
   ]
  },
  {
   "cell_type": "code",
   "execution_count": null,
   "metadata": {},
   "outputs": [],
   "source": [
    "word = input(\"ingrese palabra: \")\n",
    "total = 0\n",
    "for letter in word:\n",
    "    for letters,value in values.items():\n",
    "        if letter in letters:\n",
    "            total += value\n",
    "print(f\"el valor de la palabra es de {total} puntos\")\n",
    "\n"
   ]
  },
  {
   "cell_type": "markdown",
   "metadata": {},
   "source": [
    "usando el for letters,value itera el diccionario, por ejemeplo en la primera parasada letters toma el valor de \"aeioulnrst\" y value toma el valor de 1 y se fija si la letra esta dentro de letters y si los esta suma su valor al total"
   ]
  }
 ],
 "metadata": {
  "kernelspec": {
   "display_name": "venv",
   "language": "python",
   "name": "python3"
  },
  "language_info": {
   "codemirror_mode": {
    "name": "ipython",
    "version": 3
   },
   "file_extension": ".py",
   "mimetype": "text/x-python",
   "name": "python",
   "nbconvert_exporter": "python",
   "pygments_lexer": "ipython3",
   "version": "3.11.2"
  }
 },
 "nbformat": 4,
 "nbformat_minor": 2
}
